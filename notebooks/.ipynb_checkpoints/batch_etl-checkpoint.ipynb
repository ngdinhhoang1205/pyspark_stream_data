{
 "cells": [
  {
   "cell_type": "code",
   "execution_count": 18,
   "id": "99a15f19-854c-4c5e-b1c0-28b085b9e916",
   "metadata": {},
   "outputs": [],
   "source": [
    "# Labraries\n",
    "from kafka import KafkaProducer\n",
    "import json, time, random, uuid\n",
    "from datetime import datetime, timedelta\n",
    "from pyspark.sql.functions import expr, col, from_json\n",
    "from pyspark.sql.types import StringType, StructField, StructType, LongType"
   ]
  },
  {
   "cell_type": "code",
   "execution_count": 5,
   "id": "fd9f0180-dce3-4b35-a683-5109f55bf48e",
   "metadata": {},
   "outputs": [],
   "source": [
    "from pyspark.sql import SparkSession\n",
    "from pyspark.sql.functions import to_json, struct\n",
    "\n",
    "# 1. Create Spark session\n",
    "spark = (\n",
    "    SparkSession\n",
    "    .builder\n",
    "    .appName(\"OrdersToKafka\")\n",
    "    .config('spark.streaming.stopGracefullyOnShutdown', True)\n",
    "    .config(\"spark.jars.packages\", \n",
    "            \"org.apache.spark:spark-sql-kafka-0-10_2.12:3.4.1\")\n",
    "    .config('spark.sql.shuffle.partitions', 4)\n",
    "    .master('local[*]')\n",
    "    .getOrCreate()\n",
    ")\n",
    "# Read streaming data from order_data kafka:9092\n",
    "order_df = (\n",
    "    spark.readStream\n",
    "    .format('kafka')\n",
    "    .option('kafka.bootstrap.servers', 'kafka:9092')\n",
    "    .option('subscribe', 'order_data')\n",
    "    .option('startingOffsets', 'earliest')\n",
    "    .load()\n",
    ")"
   ]
  },
  {
   "cell_type": "code",
   "execution_count": 9,
   "id": "c904c9c9-9688-48dd-9403-27551c68f09c",
   "metadata": {},
   "outputs": [],
   "source": [
    "# Tranform data\n",
    "order_trans = order_df.withColumn('value', expr('cast(value as string)'))"
   ]
  },
  {
   "cell_type": "code",
   "execution_count": 15,
   "id": "aefe9c1f-e957-4c66-8f07-c3302c5fe1f1",
   "metadata": {},
   "outputs": [],
   "source": [
    "# Create a schema\n",
    "order_schema = (\n",
    "    StructType([\n",
    "        StructField(\"order_id\", StringType(), True),\n",
    "        StructField(\"customer_id\", StringType(), True),\n",
    "        StructField(\"product_id\", StringType(), True),\n",
    "        StructField(\"product_name\", StringType(), True),\n",
    "        StructField(\"quantity\", StringType(), True),\n",
    "        StructField(\"price\", StringType(), True),\n",
    "        StructField(\"total_value\", StringType(), True),\n",
    "        StructField(\"order_date\", StringType(), True)\n",
    "    ])\n",
    ")\n",
    "\n",
    "# order data to table format\n",
    "order_stream_df = order_trans.withColumn('value_json', from_json(col('value'), order_schema)).selectExpr('value_json.*')\n",
    "\n",
    "# Write the output to console sink to check the output --to remove later\n",
    "(order_stream_df\n",
    " .writeStream\n",
    " .format('console')\n",
    " .outputMode('append')\n",
    " .option('checkpointLocation', 'checkpoint_dir_kafka_order_data')\n",
    " .start()\n",
    " .awaitTermination()\n",
    ")"
   ]
  },
  {
   "cell_type": "code",
   "execution_count": 26,
   "id": "e7f7ef22-57e6-4c73-8b95-67cd71e103a2",
   "metadata": {},
   "outputs": [
    {
     "name": "stdout",
     "output_type": "stream",
     "text": [
      "+--------------------+-----------+----------+------------+--------+-----+-----------+----------+\n",
      "|            order_id|customer_id|product_id|product_name|quantity|price|total_value|order_date|\n",
      "+--------------------+-----------+----------+------------+--------+-----+-----------+----------+\n",
      "|cd7a87b1-07f6-424...|   CUST0048|      P004|     Monitor|       2|  300|        600|2024-04-13|\n",
      "|c89397b5-8397-4e4...|   CUST0056|      P003|  Headphones|       1|  150|        150|2024-06-11|\n",
      "|02eb5720-0a54-422...|   CUST0176|      P004|     Monitor|       1|  300|        300|2024-01-20|\n",
      "|e53b7ba7-03ed-4ea...|   CUST0135|      P002|       Phone|       1|  800|        800|2024-06-09|\n",
      "|25a600b3-575d-4a2...|   CUST0048|      P003|  Headphones|       5|  150|        750|2024-06-19|\n",
      "|7516e7cb-f0a6-4df...|   CUST0093|      P002|       Phone|       2|  800|       1600|2024-03-25|\n",
      "|fc9535c1-7ae2-409...|   CUST0189|      P005|    Keyboard|       4|   60|        240|2024-02-14|\n",
      "|120301c6-1f55-4be...|   CUST0056|      P001|      Laptop|       5| 1200|       6000|2024-04-24|\n",
      "|8b8409fe-de69-4c1...|   CUST0071|      P002|       Phone|       4|  800|       3200|2024-01-05|\n",
      "|abd13ba4-9eea-471...|   CUST0115|      P001|      Laptop|       5| 1200|       6000|2024-06-07|\n",
      "|364e2e08-48b2-4f7...|   CUST0045|      P004|     Monitor|       2|  300|        600|2024-05-22|\n",
      "|41e38eef-ca78-4ae...|   CUST0069|      P005|    Keyboard|       4|   60|        240|2024-04-13|\n",
      "|a6bdc73a-37c0-447...|   CUST0054|      P001|      Laptop|       3| 1200|       3600|2024-04-23|\n",
      "|681588c1-585e-406...|   CUST0024|      P003|  Headphones|       3|  150|        450|2024-01-21|\n",
      "|240ea27b-29eb-4f1...|   CUST0136|      P001|      Laptop|       2| 1200|       2400|2024-02-02|\n",
      "|d48f7940-fba2-4fc...|   CUST0192|      P004|     Monitor|       3|  300|        900|2024-02-25|\n",
      "|f06cb499-b7f5-48f...|   CUST0161|      P003|  Headphones|       4|  150|        600|2024-01-13|\n",
      "|bcbbdcd6-8c8e-407...|   CUST0051|      P003|  Headphones|       3|  150|        450|2024-01-06|\n",
      "|ed487d1a-ec85-42c...|   CUST0195|      P005|    Keyboard|       3|   60|        180|2024-03-18|\n",
      "|27070bf9-a8ec-44b...|   CUST0051|      P005|    Keyboard|       4|   60|        240|2024-04-04|\n",
      "+--------------------+-----------+----------+------------+--------+-----+-----------+----------+\n",
      "only showing top 20 rows\n",
      "\n"
     ]
    }
   ],
   "source": [
    "\n",
    "\n",
    "order_stream_df.show()"
   ]
  }
 ],
 "metadata": {
  "kernelspec": {
   "display_name": "Python 3 (ipykernel)",
   "language": "python",
   "name": "python3"
  },
  "language_info": {
   "codemirror_mode": {
    "name": "ipython",
    "version": 3
   },
   "file_extension": ".py",
   "mimetype": "text/x-python",
   "name": "python",
   "nbconvert_exporter": "python",
   "pygments_lexer": "ipython3",
   "version": "3.10.11"
  }
 },
 "nbformat": 4,
 "nbformat_minor": 5
}
