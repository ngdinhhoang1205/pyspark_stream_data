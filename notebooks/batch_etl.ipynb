{
 "cells": [
  {
   "cell_type": "code",
   "execution_count": 1,
   "id": "99a15f19-854c-4c5e-b1c0-28b085b9e916",
   "metadata": {},
   "outputs": [],
   "source": [
    "# Labraries\n",
    "from kafka import KafkaProducer\n",
    "import json, time, random, uuid\n",
    "from datetime import datetime, timedelta\n",
    "from pyspark.sql.functions import expr, col, from_json\n",
    "from pyspark.sql.types import StringType, StructField, StructType, LongType"
   ]
  },
  {
   "cell_type": "code",
   "execution_count": 2,
   "id": "fd9f0180-dce3-4b35-a683-5109f55bf48e",
   "metadata": {},
   "outputs": [],
   "source": [
    "from pyspark.sql import SparkSession\n",
    "from pyspark.sql.functions import to_json, struct\n",
    "\n",
    "# 1. Create Spark session\n",
    "spark = (\n",
    "    SparkSession\n",
    "    .builder\n",
    "    .appName(\"OrdersToKafka\")\n",
    "    .config('spark.streaming.stopGracefullyOnShutdown', True)\n",
    "    .config(\"spark.jars.packages\", \n",
    "            \"org.apache.spark:spark-sql-kafka-0-10_2.12:3.4.1\")\n",
    "    .config('spark.sql.shuffle.partitions', 4)\n",
    "    .master('local[*]')\n",
    "    .getOrCreate()\n",
    ")\n",
    "# Read streaming data from order_data kafka:9092\n",
    "order_df = (\n",
    "    spark.readStream\n",
    "    .format('kafka')\n",
    "    .option('kafka.bootstrap.servers', 'kafka:9092')\n",
    "    .option('subscribe', 'order_data')\n",
    "    .option('startingOffsets', 'earliest')\n",
    "    .load()\n",
    ")"
   ]
  },
  {
   "cell_type": "code",
   "execution_count": 3,
   "id": "c904c9c9-9688-48dd-9403-27551c68f09c",
   "metadata": {},
   "outputs": [],
   "source": [
    "# Tranform data\n",
    "order_trans = order_df.withColumn('value', expr('cast(value as string)'))"
   ]
  },
  {
   "cell_type": "code",
   "execution_count": null,
   "id": "aefe9c1f-e957-4c66-8f07-c3302c5fe1f1",
   "metadata": {},
   "outputs": [],
   "source": [
    "# Create a schema\n",
    "order_schema = (\n",
    "    StructType([\n",
    "        StructField(\"order_id\", StringType(), True),\n",
    "        StructField(\"customer_id\", StringType(), True),\n",
    "        StructField(\"product_id\", StringType(), True),\n",
    "        StructField(\"product_name\", StringType(), True),\n",
    "        StructField(\"quantity\", StringType(), True),\n",
    "        StructField(\"price\", StringType(), True),\n",
    "        StructField(\"total_value\", StringType(), True),\n",
    "        StructField(\"order_date\", StringType(), True)\n",
    "    ])\n",
    ")\n",
    "\n",
    "# order data to table format\n",
    "order_stream_df = order_trans.withColumn('value_json', from_json(col('value'), order_schema)).selectExpr('value_json.*')\n",
    "\n",
    "# Write the output to console sink to check the output --to remove later\n",
    "(order_stream_df\n",
    " .writeStream\n",
    " .format('console')\n",
    " .outputMode('append')\n",
    " .trigger(continuous='10 seconds')\n",
    " .option('checkpointLocation', 'checkpoint_dir_kafka_order_data')\n",
    " .start()\n",
    " .awaitTermination()\n",
    ")"
   ]
  },
  {
   "cell_type": "code",
   "execution_count": null,
   "id": "2bb7e18f-94ca-4f9a-a09b-228a5d6f4c2f",
   "metadata": {},
   "outputs": [],
   "source": []
  }
 ],
 "metadata": {
  "kernelspec": {
   "display_name": "Python 3 (ipykernel)",
   "language": "python",
   "name": "python3"
  },
  "language_info": {
   "codemirror_mode": {
    "name": "ipython",
    "version": 3
   },
   "file_extension": ".py",
   "mimetype": "text/x-python",
   "name": "python",
   "nbconvert_exporter": "python",
   "pygments_lexer": "ipython3",
   "version": "3.10.11"
  }
 },
 "nbformat": 4,
 "nbformat_minor": 5
}
